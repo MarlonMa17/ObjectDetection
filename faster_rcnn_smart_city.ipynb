{
 "cells": [
  {
   "cell_type": "code",
   "execution_count": 3,
   "id": "f6279521",
   "metadata": {},
   "outputs": [],
   "source": [
    "import os\n",
    "os.chdir(r\"C:\\Users\\admin\\Downloads\\Code\\ObjectDetection\")\n",
    "\n",
    "categories = []\n",
    "with open(\"yolov5/data/smartcity.yaml\", 'r') as f:\n",
    "    lines = f.readlines()\n",
    "for line in lines:\n",
    "    if line.strip().startswith(\"names:\"):\n",
    "        name_line = eval(line.strip().split(\"names:\")[1].strip())\n",
    "        for i, name in enumerate(name_line):\n",
    "            categories.append({\"id\": i, \"name\": name})\n"
   ]
  },
  {
   "cell_type": "markdown",
   "id": "65579a9e",
   "metadata": {},
   "source": [
    "脚本：YOLO ➜ COCO JSON for Faster R-CNN"
   ]
  },
  {
   "cell_type": "code",
   "execution_count": 5,
   "id": "4d545079",
   "metadata": {},
   "outputs": [
    {
     "name": "stdout",
     "output_type": "stream",
     "text": [
      "Converting train set...\n"
     ]
    },
    {
     "ename": "FileNotFoundError",
     "evalue": "[Errno 2] No such file or directory: '..\\\\yolov5\\\\data\\\\smartcity.yaml'",
     "output_type": "error",
     "traceback": [
      "\u001b[1;31m---------------------------------------------------------------------------\u001b[0m",
      "\u001b[1;31mFileNotFoundError\u001b[0m                         Traceback (most recent call last)",
      "Cell \u001b[1;32mIn[5], line 90\u001b[0m\n\u001b[0;32m     87\u001b[0m     \u001b[38;5;28mprint\u001b[39m(\u001b[38;5;124mf\u001b[39m\u001b[38;5;124m\"\u001b[39m\u001b[38;5;132;01m{\u001b[39;00msplit\u001b[38;5;132;01m}\u001b[39;00m\u001b[38;5;124m annotations saved to \u001b[39m\u001b[38;5;132;01m{\u001b[39;00moutput_path\u001b[38;5;132;01m}\u001b[39;00m\u001b[38;5;124m\"\u001b[39m)\n\u001b[0;32m     89\u001b[0m \u001b[38;5;66;03m# 执行两个 split\u001b[39;00m\n\u001b[1;32m---> 90\u001b[0m \u001b[43mconvert_split\u001b[49m\u001b[43m(\u001b[49m\u001b[38;5;124;43m\"\u001b[39;49m\u001b[38;5;124;43mtrain\u001b[39;49m\u001b[38;5;124;43m\"\u001b[39;49m\u001b[43m)\u001b[49m\n\u001b[0;32m     91\u001b[0m convert_split(\u001b[38;5;124m\"\u001b[39m\u001b[38;5;124mval\u001b[39m\u001b[38;5;124m\"\u001b[39m)\n",
      "Cell \u001b[1;32mIn[5], line 25\u001b[0m, in \u001b[0;36mconvert_split\u001b[1;34m(split)\u001b[0m\n\u001b[0;32m     23\u001b[0m \u001b[38;5;66;03m# 类别信息（从 YOLOv5 的 smartcity.yaml 复制）\u001b[39;00m\n\u001b[0;32m     24\u001b[0m categories \u001b[38;5;241m=\u001b[39m []\n\u001b[1;32m---> 25\u001b[0m \u001b[38;5;28;01mwith\u001b[39;00m \u001b[38;5;28;43mopen\u001b[39;49m\u001b[43m(\u001b[49m\u001b[38;5;124;43m\"\u001b[39;49m\u001b[38;5;124;43m..\u001b[39;49m\u001b[38;5;124;43m\\\u001b[39;49m\u001b[38;5;124;43myolov5\u001b[39;49m\u001b[38;5;124;43m\\\u001b[39;49m\u001b[38;5;124;43mdata\u001b[39;49m\u001b[38;5;124;43m\\\u001b[39;49m\u001b[38;5;124;43msmartcity.yaml\u001b[39;49m\u001b[38;5;124;43m\"\u001b[39;49m\u001b[43m,\u001b[49m\u001b[43m \u001b[49m\u001b[38;5;124;43m'\u001b[39;49m\u001b[38;5;124;43mr\u001b[39;49m\u001b[38;5;124;43m'\u001b[39;49m\u001b[43m)\u001b[49m \u001b[38;5;28;01mas\u001b[39;00m f:\n\u001b[0;32m     26\u001b[0m     lines \u001b[38;5;241m=\u001b[39m f\u001b[38;5;241m.\u001b[39mreadlines()\n\u001b[0;32m     27\u001b[0m \u001b[38;5;28;01mfor\u001b[39;00m line \u001b[38;5;129;01min\u001b[39;00m lines:\n",
      "File \u001b[1;32m~\\AppData\\Roaming\\Python\\Python310\\site-packages\\IPython\\core\\interactiveshell.py:324\u001b[0m, in \u001b[0;36m_modified_open\u001b[1;34m(file, *args, **kwargs)\u001b[0m\n\u001b[0;32m    317\u001b[0m \u001b[38;5;28;01mif\u001b[39;00m file \u001b[38;5;129;01min\u001b[39;00m {\u001b[38;5;241m0\u001b[39m, \u001b[38;5;241m1\u001b[39m, \u001b[38;5;241m2\u001b[39m}:\n\u001b[0;32m    318\u001b[0m     \u001b[38;5;28;01mraise\u001b[39;00m \u001b[38;5;167;01mValueError\u001b[39;00m(\n\u001b[0;32m    319\u001b[0m         \u001b[38;5;124mf\u001b[39m\u001b[38;5;124m\"\u001b[39m\u001b[38;5;124mIPython won\u001b[39m\u001b[38;5;124m'\u001b[39m\u001b[38;5;124mt let you open fd=\u001b[39m\u001b[38;5;132;01m{\u001b[39;00mfile\u001b[38;5;132;01m}\u001b[39;00m\u001b[38;5;124m by default \u001b[39m\u001b[38;5;124m\"\u001b[39m\n\u001b[0;32m    320\u001b[0m         \u001b[38;5;124m\"\u001b[39m\u001b[38;5;124mas it is likely to crash IPython. If you know what you are doing, \u001b[39m\u001b[38;5;124m\"\u001b[39m\n\u001b[0;32m    321\u001b[0m         \u001b[38;5;124m\"\u001b[39m\u001b[38;5;124myou can use builtins\u001b[39m\u001b[38;5;124m'\u001b[39m\u001b[38;5;124m open.\u001b[39m\u001b[38;5;124m\"\u001b[39m\n\u001b[0;32m    322\u001b[0m     )\n\u001b[1;32m--> 324\u001b[0m \u001b[38;5;28;01mreturn\u001b[39;00m io_open(file, \u001b[38;5;241m*\u001b[39margs, \u001b[38;5;241m*\u001b[39m\u001b[38;5;241m*\u001b[39mkwargs)\n",
      "\u001b[1;31mFileNotFoundError\u001b[0m: [Errno 2] No such file or directory: '..\\\\yolov5\\\\data\\\\smartcity.yaml'"
     ]
    }
   ],
   "source": [
    "import os\n",
    "import shutil\n",
    "import json\n",
    "from tqdm import tqdm\n",
    "\n",
    "# 输入路径\n",
    "yolo_root = \"../coco_subset\"\n",
    "output_root = \"../coco_subset_faster\"\n",
    "os.makedirs(output_root, exist_ok=True)\n",
    "\n",
    "def convert_split(split):\n",
    "    print(f\"Converting {split} set...\")\n",
    "    \n",
    "    # 创建新结构\n",
    "    image_dir = os.path.join(output_root, \"images\", split)\n",
    "    ann_dir = os.path.join(output_root, \"annotations\")\n",
    "    os.makedirs(image_dir, exist_ok=True)\n",
    "    os.makedirs(ann_dir, exist_ok=True)\n",
    "\n",
    "    label_dir = os.path.join(yolo_root, \"labels\", split)\n",
    "    source_image_dir = os.path.join(yolo_root, \"images\", split)\n",
    "\n",
    "    # 类别信息（从 YOLOv5 的 smartcity.yaml 复制）\n",
    "    # 类别信息：直接写入 COCO 80类标签\n",
    "    categories = [\n",
    "    {\"id\": i, \"name\": name} for i, name in enumerate([\n",
    "        'person', 'bicycle', 'car', 'motorcycle', 'airplane', 'bus', 'train', 'truck',\n",
    "        'boat', 'traffic light', 'fire hydrant', 'stop sign', 'parking meter', 'bench',\n",
    "        'bird', 'cat', 'dog', 'horse', 'sheep', 'cow', 'elephant', 'bear', 'zebra',\n",
    "        'giraffe', 'backpack', 'umbrella', 'handbag', 'tie', 'suitcase', 'frisbee',\n",
    "        'skis', 'snowboard', 'sports ball', 'kite', 'baseball bat', 'baseball glove',\n",
    "        'skateboard', 'surfboard', 'tennis racket', 'bottle', 'wine glass', 'cup',\n",
    "        'fork', 'knife', 'spoon', 'bowl', 'banana', 'apple', 'sandwich', 'orange',\n",
    "        'broccoli', 'carrot', 'hot dog', 'pizza', 'donut', 'cake', 'chair', 'couch',\n",
    "        'potted plant', 'bed', 'dining table', 'toilet', 'tv', 'laptop', 'mouse',\n",
    "        'remote', 'keyboard', 'cell phone', 'microwave', 'oven', 'toaster', 'sink',\n",
    "        'refrigerator', 'book', 'clock', 'vase', 'scissors', 'teddy bear', 'hair drier',\n",
    "        'toothbrush'\n",
    "        ])\n",
    "    ]\n",
    "\n",
    "\n",
    "    images = []\n",
    "    annotations = []\n",
    "    ann_id = 1\n",
    "    for idx, file_name in enumerate(tqdm(os.listdir(label_dir))):\n",
    "        if not file_name.endswith(\".txt\"):\n",
    "            continue\n",
    "        img_name = file_name.replace(\".txt\", \".jpg\")\n",
    "        src_img_path = os.path.join(source_image_dir, img_name)\n",
    "        dst_img_path = os.path.join(image_dir, img_name)\n",
    "        shutil.copyfile(src_img_path, dst_img_path)\n",
    "\n",
    "        height, width = 640, 640  # 如果知道原始尺寸可以替换\n",
    "\n",
    "        image_info = {\n",
    "            \"id\": idx,\n",
    "            \"file_name\": img_name,\n",
    "            \"width\": width,\n",
    "            \"height\": height\n",
    "        }\n",
    "        images.append(image_info)\n",
    "\n",
    "        # 读取 YOLO 标签\n",
    "        label_path = os.path.join(label_dir, file_name)\n",
    "        with open(label_path, 'r') as f:\n",
    "            for line in f.readlines():\n",
    "                parts = line.strip().split()\n",
    "                if len(parts) != 5:\n",
    "                    continue\n",
    "                class_id = int(parts[0])\n",
    "                x_center, y_center, w, h = map(float, parts[1:])\n",
    "                x = x_center - w / 2\n",
    "                y = y_center - h / 2\n",
    "\n",
    "                ann = {\n",
    "                    \"id\": ann_id,\n",
    "                    \"image_id\": idx,\n",
    "                    \"category_id\": class_id,\n",
    "                    \"bbox\": [x * width, y * height, w * width, h * height],\n",
    "                    \"area\": w * h * width * height,\n",
    "                    \"iscrowd\": 0\n",
    "                }\n",
    "                annotations.append(ann)\n",
    "                ann_id += 1\n",
    "\n",
    "    coco_json = {\n",
    "        \"images\": images,\n",
    "        \"annotations\": annotations,\n",
    "        \"categories\": categories\n",
    "    }\n",
    "\n",
    "    output_path = os.path.join(ann_dir, f\"annotations_{split}.json\")\n",
    "    with open(output_path, 'w') as f:\n",
    "        json.dump(coco_json, f)\n",
    "\n",
    "    print(f\"{split} annotations saved to {output_path}\")\n",
    "\n",
    "# 执行两个 split\n",
    "convert_split(\"train\")\n",
    "convert_split(\"val\")\n"
   ]
  },
  {
   "cell_type": "markdown",
   "id": "f552cc50",
   "metadata": {},
   "source": [
    "Step 1：环境配置与导入库"
   ]
  },
  {
   "cell_type": "code",
   "execution_count": null,
   "id": "6902a9a1",
   "metadata": {},
   "outputs": [],
   "source": [
    "import os\n",
    "import torch\n",
    "import torchvision\n",
    "from torchvision.models.detection import fasterrcnn_resnet50_fpn\n",
    "from torchvision.transforms import functional as F\n",
    "from torchvision.datasets import CocoDetection\n",
    "import matplotlib.pyplot as plt\n"
   ]
  }
 ],
 "metadata": {
  "kernelspec": {
   "display_name": "Python 3",
   "language": "python",
   "name": "python3"
  },
  "language_info": {
   "codemirror_mode": {
    "name": "ipython",
    "version": 3
   },
   "file_extension": ".py",
   "mimetype": "text/x-python",
   "name": "python",
   "nbconvert_exporter": "python",
   "pygments_lexer": "ipython3",
   "version": "3.10.4"
  }
 },
 "nbformat": 4,
 "nbformat_minor": 5
}
